{
 "cells": [
  {
   "cell_type": "markdown",
   "metadata": {},
   "source": [
    "#### What is Git and why it is used?\n",
    "Git is a version control system for tracking changes in computer files and coordinating work on those files among multiple people. It is primarily used for source code management in software development, but it can be used to keep track of changes in any set of files."
   ]
  },
  {
   "cell_type": "markdown",
   "metadata": {},
   "source": [
    "#### What is the purpose of Git?\n",
    "The purpose of Git is to manage a project, or a set of files, as they change over time. Git stores this information in a data structure called a repository. A git repository contains, among other things, the following: A set of commit objects"
   ]
  },
  {
   "cell_type": "markdown",
   "metadata": {},
   "source": [
    "#### Is git a programming language?\n",
    "The libgit2 implementation of Git is an ANSI C software library with no other dependencies, which can be built on multiple platforms, including Windows, Linux, macOS, and BSD. It has bindings for many programming languages, including Ruby, Python, and Haskell."
   ]
  },
  {
   "cell_type": "markdown",
   "metadata": {},
   "source": [
    "#### What language is GitHub written in?\n",
    "GitHub is developed in Ruby programming language.\n",
    "Ruby is a dynamic, reflective, object-oriented, general-purpose programming language."
   ]
  },
  {
   "cell_type": "markdown",
   "metadata": {},
   "source": [
    "#### What language is Git written in?\n",
    "```\n",
    "C \n",
    "Shell \n",
    "Perl \n",
    "Tcl \n",
    "Python \n",
    "C ++ \n",
    "\n",
    "```"
   ]
  },
  {
   "cell_type": "markdown",
   "metadata": {},
   "source": [
    "#### What is Git and how it works?\n",
    "Git is a Distributed Version Control tool that is used to store different versions of a file in a remote or local repository. It is used to track changes in the source code. It allows multiple developers to work together. A VCS allows you to keep every change you make in the code repository."
   ]
  },
  {
   "cell_type": "markdown",
   "metadata": {},
   "source": [
    "#### What is a local Git repository?\n",
    "If I understand correctly, Git has two sorts of repositories: one called local, another called remote. Git local repository is the one on which we will make local changes, typically this local repository is on our computer. Git remote repository is the one of the server, typically a machine situated at 42 miles away."
   ]
  },
  {
   "cell_type": "markdown",
   "metadata": {},
   "source": [
    "#### What are Git tools?\n",
    "Git is a free, open source distributed version control system tool designed to handle everything from small to very large projects with speed and efficiency. It was created by Linus Torvalds in 2005 to develop Linux Kernel."
   ]
  },
  {
   "cell_type": "markdown",
   "metadata": {},
   "source": [
    "#### What is git tracking?\n",
    "A 'tracking branch' in Git is a local branch that is connected to a remote branch. When you push and pull on that branch, it automatically pushes and pulls to the remote branch that it is connected with"
   ]
  },
  {
   "cell_type": "markdown",
   "metadata": {},
   "source": [
    "#### What is SVN stand for?\n",
    "SVN is a shorthand abbreviation of the name “Subversion”. For those who have not heard of it, Subversion is a powerful open-source version control system that is typically used to manage the collections of files that make up software projects."
   ]
  },
  {
   "cell_type": "markdown",
   "metadata": {},
   "source": [
    "#### Important Git commands!\n",
    "1) git config\n",
    "Utility : To set your user name and email in the main configuration file.\n",
    "How to : To check your name and email type in git config --global user.name and git config --global user.email. And to set your new email or name git config --global user.name = “Dhruv Nenwani” and git config --global user.email = “nendhruv@gmail.com”\n",
    "\n",
    "2) git init\n",
    "Utility : To initialise a git repository for a new or existing project.\n",
    "How to : git init in the root of your project directory.\n",
    "\n",
    "3) git clone\n",
    "Utility : To copy a git repository from remote source, also sets the remote to original source so that you can pull again.\n",
    "How to : git clone <:clone git url:>\n",
    "\n",
    "4) git status\n",
    "Utility : To check the status of files you’ve changed in your working directory, i.e, what all has changed since your last commit.\n",
    "How to : git status in your working directory. lists out all the files that have been changed.\n",
    "\n",
    "5) git add\n",
    "Utility : adds changes to stage/index in your working directory.\n",
    "How to : git add .\n",
    "\n",
    "6) git commit\n",
    "Utility : commits your changes and sets it to new commit object for your remote.\n",
    "How to : git commit -m”sweet little commit message”\n",
    "\n",
    "7) git push/git pull\n",
    "Utility : Push or Pull your changes to remote. If you have added and committed your changes and you want to push them. Or if your remote has updated and you want those latest changes.\n",
    "How to : git pull <:remote:> <:branch:> and git push <:remote:> <:branch:>\n",
    "\n",
    "8) git branch\n",
    "Utility : Lists out all the branches.\n",
    "How to : git branch or git branch -a to list all the remote branches as well.\n",
    "\n",
    "9) git checkout\n",
    "Utility : Switch to different branches\n",
    "How to : git checkout <:branch:> or **_git checkout -b <:branch:> if you want to create and switch to a new branch.\n",
    "\n",
    "10) git stash\n",
    "Utility : Save changes that you don’t want to commit immediately.\n",
    "How to : git stash in your working directory. git stash apply if you want to bring your saved changes back.\n",
    "\n",
    "11) git merge\n",
    "Utility : Merge two branches you were working on.\n",
    "How to : Switch to branch you want to merge everything in. git merge <:branch_you_want_to_merge:>\n",
    "\n",
    "12) git reset\n",
    "Utility : You know when you commit changes that are not complete, this sets your index to the latest commit that you want to work on with.\n",
    "How to : git reset <:mode:> <:COMMIT:>\n",
    "\n",
    "13) git remote\n",
    "Utility : To check what remote/source you have or add a new remote.\n",
    "How to : git remote to check and list. And git remote add <:remote_url:>"
   ]
  },
  {
   "cell_type": "markdown",
   "metadata": {},
   "source": [
    "#### What is Git source tree?\n",
    "Sourcetree is a free Git desktop client for developers on Windows. Say goodbye to the command line and use the full capabilities of Git through Sourcetree's beautifully simple interface"
   ]
  },
  {
   "cell_type": "markdown",
   "metadata": {},
   "source": [
    "```\n",
    "Is there a GUI for Git?\n",
    "GitHub Desktop is a free and open source Git GUI client. It has an intuitive interface that allows you to manage code without you needing to type commands. You can make new or add local repositories and perform Git operations with ease\n",
    "\n",
    "git gui focuses on allowing users to make changes to their repository by making new commits, amending existing ones, creating branches, performing local merges, and fetching/pushing to remote repositories. Unlike gitk, git gui focuses on commit generation and single file annotation and does not show project history.\n",
    "```\n",
    "#### What is a Git client?\n",
    "A Git client is some software to work with git repositories, both remote and local. ... The standard “git” software package is the most obvious client. Most git ui clients use this as their underlying tool to work with git repositories."
   ]
  },
  {
   "cell_type": "markdown",
   "metadata": {},
   "source": [
    "#### Why do we use git stash?\n",
    "Use git stash when you want to record the current state of the working directory and the index, but want to go back to a clean working directory. The command saves your local modifications away and reverts the working directory to match the HEAD commit.\n",
    "```\n",
    "git stash temporarily shelves (or stashes) changes you've made to your working copy so you can work on something else, and then come back and re-apply them later on.\n",
    "```"
   ]
  },
  {
   "cell_type": "markdown",
   "metadata": {},
   "source": [
    "#### What is git rebase? \n",
    "From a content perspective, rebasing is changing the base of your branch from one commit to another making it appear as if you'd created your branch from a different commit. Internally, Git accomplishes this by creating new commits and applying them to the specified base."
   ]
  },
  {
   "cell_type": "markdown",
   "metadata": {},
   "source": [
    "#### What is GitLab?\n",
    "GitLab is a web-based DevOps lifecycle tool that provides a Git-repository manager providing wiki, issue-tracking and CI/CD pipeline features, using an open-source license, developed by GitLab Inc."
   ]
  },
  {
   "cell_type": "markdown",
   "metadata": {},
   "source": [
    "#### What is the difference between GitLab and GitHub?\n",
    "Both GitLab (and GitLab.com) and GitHub (and GitHub.com) are products providing Git repository hosting service. ... The main advantage of GitLab is its opensource nature, which allows you to run GitLab on your own servers. GitLab allows unlimited private repositories for free whereas for GitHub, it is not free."
   ]
  },
  {
   "cell_type": "markdown",
   "metadata": {},
   "source": [
    "#### What is git vs GitHub?\n",
    "Git is a version control system that lets you manage and keep track of your source code history. GitHub is a cloud-based hosting service that lets you manage Git repositories. If you have open-source projects that use Git, then GitHub is designed to help you better manage them."
   ]
  },
  {
   "cell_type": "markdown",
   "metadata": {},
   "source": [
    "#### Is there a GUI for Git?\n",
    "GitHub Desktop is a free and open source Git GUI client. It has an intuitive interface that allows you to manage code without you needing to type commands. You can make new or add local repositories and perform Git operations with ease"
   ]
  },
  {
   "cell_type": "markdown",
   "metadata": {},
   "source": [
    "#### What is GitHub desktop?\n",
    "GitHub Desktop is a fast and easy way to contribute to projects from Windows and OS X, whether you are a seasoned user or new user, GitHub Desktop is designed to simplify all processes and workflow in your GitHub. GitHub Desktop is an open-source Electron-based GitHub app. It is written in TypeScript and uses React."
   ]
  },
  {
   "cell_type": "markdown",
   "metadata": {},
   "source": [
    "#### Does GitHub desktop need Git?\n",
    "That's right, even though GitHub Desktop does depend on Git, it doesn't install that dependency. Fortunately, you can install Git from within GitHub Desktop. To do this, click Repository | Open in Command Prompt, and you will be prompted to install Git"
   ]
  },
  {
   "cell_type": "markdown",
   "metadata": {},
   "source": [
    "#### What is Git GUI used for?\n",
    "A Tcl/Tk based graphical user interface to Git. git gui focuses on allowing users to make changes to their repository by making new commits, amending existing ones, creating branches, performing local merges, and fetching/pushing to remote repositories."
   ]
  },
  {
   "cell_type": "markdown",
   "metadata": {},
   "source": [
    "#### What is Git Bash and Git GUI?\n",
    "Git Bash emulates a bash environment on windows. It lets you use all git features in command line plus most of standard unix commands. Useful if you are used to Linux and want to keep the same habits. Git GUI is a Graphical User Interface letting you use Git without touching command line.\n",
    "```\n",
    "1) What is a bash environment?\n",
    "GNU Bash or simply Bash is a Unix shell and command language written by Brian Fox for the GNU Project as a free software replacement for the Bourne shell. ... Bash can also read and execute commands from a file, called a shell script.\n",
    "\n",
    "2) What is bash used for?\n",
    "Bash is a Unix shell, which is a command line interface (CLI) for interacting with an operating system (OS). Any command that you can run from the command line can be used in a bash script. Scripts are used to run a series of commands. Bash is available by default on Linux and macOS operating systems.\n",
    "\n",
    "3) Is Bash a programming language?\n",
    "We can say that yes, it is a programming language. According to man bash , Bash is a \"sh-compatible command language\". Then, we can say a \"command language\" is \"a programming language through which a user communicates with the operating system or an application\". Bash is the GNU Project's shell.\n",
    "\n",
    "4) Is bash and shell the same?\n",
    "Bash ( bash ) is one of many available (yet the most commonly used) Unix shells. ... Shell scripting is scripting in any shell, whereas Bash scripting is scripting specifically for Bash. In practice, however, \"shell script\" and \"bash script\" are often used interchangeably, unless the shell in question is not Bash.\n",
    "```"
   ]
  },
  {
   "cell_type": "markdown",
   "metadata": {},
   "source": [
    "#### What is bitbucket used for?\n",
    "Bitbucket is a system for hosting version control repositories owned by Atlassian. It is a competitor to GitHub. Version Control Systems are tools which help manage the code for a project as it changes over time. They allow past versions of the project to be saved in case new changes break things."
   ]
  },
  {
   "cell_type": "markdown",
   "metadata": {},
   "source": [
    "#### What is difference between bitbucket and Git?\n",
    "Bitbucket is more flexible than Github\n",
    "While GitHub comes with a lot of features and allows you to create your own workflows, BitBucket has more flexibility built in. For example, BitBucket gives you more options about the version control system that you use (incorporating Mercurial as well as Git)."
   ]
  },
  {
   "cell_type": "code",
   "execution_count": null,
   "metadata": {},
   "outputs": [],
   "source": []
  }
 ],
 "metadata": {
  "kernelspec": {
   "display_name": "Python 3",
   "language": "python",
   "name": "python3"
  },
  "language_info": {
   "codemirror_mode": {
    "name": "ipython",
    "version": 3
   },
   "file_extension": ".py",
   "mimetype": "text/x-python",
   "name": "python",
   "nbconvert_exporter": "python",
   "pygments_lexer": "ipython3",
   "version": "3.6.4"
  }
 },
 "nbformat": 4,
 "nbformat_minor": 2
}
